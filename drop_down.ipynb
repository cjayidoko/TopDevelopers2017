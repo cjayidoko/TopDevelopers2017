{
 "cells": [
  {
   "cell_type": "code",
   "execution_count": null,
   "metadata": {},
   "outputs": [],
   "source": [
    "## I decided to write a function that can be\n",
    "## used to get an equivalent drop down of responses in a target_column that match the results of\n",
    "## splitting multiple responses in a given pseudo_column as done above.\n",
    "## dat_df is the original dataframe containing pseudo and target columns\n",
    "## pseudo_col is the column with multiple responses in each row, that need to be split\n",
    "## target_col is the column that need to be mapped/dropped-down to fit the result of such split\n",
    "## split_by is the seperator symbol between the multiple responses in each row of pseudo_col\n",
    "## returns a dataframe of the pseudo_col and target_col values that match in length\n",
    "def drop_down(dat_df, pseudo_col, target_col, split_by):\n",
    "    TagLst = []\n",
    "    PseudoLst = []\n",
    "    Col1 = list(dat_df[pseudo_col].values)\n",
    "    Col2 = list(dat_df[target_col].values)\n",
    "    for i,j in dat_df[pseudo_col].items():\n",
    "        gh = str(j).split(split_by)\n",
    "        gh = [j.lstrip() for j in gh]\n",
    "        PseudoLst.append(gh)\n",
    "        bs = [Col2[i]]*len(gh)\n",
    "        TagLst.append(bs)\n",
    "    PseudoLst1 = [i for i in PseudoLst for i in i]\n",
    "    TagLst1 = [i for i in TagLst for i in i]\n",
    "    return pd.DataFrame({dat_df[pseudo_col].name:PseudoLst1,dat_df[target_col].name:TagLst1})\n",
    "    return pd.DataFrame({dat_df[pseudo_col].name:PseudoLst1,dat_df[target_col].name:TagLst1})"
   ]
  }
 ],
 "metadata": {
  "kernelspec": {
   "display_name": "Python 3",
   "language": "python",
   "name": "python3"
  },
  "language_info": {
   "codemirror_mode": {
    "name": "ipython",
    "version": 3
   },
   "file_extension": ".py",
   "mimetype": "text/x-python",
   "name": "python",
   "nbconvert_exporter": "python",
   "pygments_lexer": "ipython3",
   "version": "3.7.1"
  }
 },
 "nbformat": 4,
 "nbformat_minor": 2
}
