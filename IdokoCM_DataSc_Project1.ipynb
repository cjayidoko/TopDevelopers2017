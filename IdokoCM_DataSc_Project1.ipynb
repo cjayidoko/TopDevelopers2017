{
 "cells": [
  {
   "cell_type": "markdown",
   "metadata": {},
   "source": [
    "# Data Science Nanodegree project 1"
   ]
  },
  {
   "cell_type": "code",
   "execution_count": null,
   "metadata": {},
   "outputs": [],
   "source": []
  },
  {
   "cell_type": "code",
   "execution_count": null,
   "metadata": {},
   "outputs": [],
   "source": []
  },
  {
   "cell_type": "markdown",
   "metadata": {},
   "source": [
    "##### The information technology (IT) field is one popular field today anmong people who are job seeking. Often one come across adverts online, on the tV or even on the radio on how to secure a a certain tech job with a good salary and have a guaranteed job placement. Given the continued rise in such adverts, one can guess that advertizers are getting positive responses from their listeners. It is on this light that one could be wondering the most rewarding career paths among the many developer jobs. Otherwise tagged 'sexiest' jobs in the IT, these  are the jobs that are most attractive to seekers often due to fat pay and benefits. There is really not a dearth of such lists of top jobs on the web. Howeever, this write-up provides a perspective of top jobs specific to developers. Using a dataset of survey from stack overflow developers in 2017, I made effort to bring out insights that would be useful to anybody considering building a career in the tech. space, and to career advisors who may be wanting to get a better look at such information as top paid developer jobs and the right tools to accumulate for a most satisfying and rewarding career as a developer\n",
    "##### The dataset utilized are two. One is the survey data itself, and the other is a schema which contains the questions posed for each column in the survey dataset. The survey dataset here referred to as 'df' has many fields/columns which are responses from many stack-overflow developers. The developers come from over 213 countries and reported such information as ther current salaries, how satified they are with their job, years of expereince coding as part of job, among others. I applied exploratory analysis and data visualization in bringing out great insights from this survey that can be helpful to people who are considering career roles in the IT and/or as developers. "
   ]
  },
  {
   "cell_type": "code",
   "execution_count": null,
   "metadata": {},
   "outputs": [],
   "source": []
  },
  {
   "cell_type": "code",
   "execution_count": 42,
   "metadata": {},
   "outputs": [
    {
     "data": {
      "text/html": [
       "<div>\n",
       "<style scoped>\n",
       "    .dataframe tbody tr th:only-of-type {\n",
       "        vertical-align: middle;\n",
       "    }\n",
       "\n",
       "    .dataframe tbody tr th {\n",
       "        vertical-align: top;\n",
       "    }\n",
       "\n",
       "    .dataframe thead th {\n",
       "        text-align: right;\n",
       "    }\n",
       "</style>\n",
       "<table border=\"1\" class=\"dataframe\">\n",
       "  <thead>\n",
       "    <tr style=\"text-align: right;\">\n",
       "      <th></th>\n",
       "      <th>Respondent</th>\n",
       "      <th>Professional</th>\n",
       "      <th>ProgramHobby</th>\n",
       "      <th>Country</th>\n",
       "      <th>University</th>\n",
       "      <th>EmploymentStatus</th>\n",
       "      <th>FormalEducation</th>\n",
       "      <th>MajorUndergrad</th>\n",
       "      <th>HomeRemote</th>\n",
       "      <th>CompanySize</th>\n",
       "      <th>...</th>\n",
       "      <th>StackOverflowMakeMoney</th>\n",
       "      <th>Gender</th>\n",
       "      <th>HighestEducationParents</th>\n",
       "      <th>Race</th>\n",
       "      <th>SurveyLong</th>\n",
       "      <th>QuestionsInteresting</th>\n",
       "      <th>QuestionsConfusing</th>\n",
       "      <th>InterestedAnswers</th>\n",
       "      <th>Salary</th>\n",
       "      <th>ExpectedSalary</th>\n",
       "    </tr>\n",
       "  </thead>\n",
       "  <tbody>\n",
       "    <tr>\n",
       "      <th>0</th>\n",
       "      <td>1</td>\n",
       "      <td>Student</td>\n",
       "      <td>Yes, both</td>\n",
       "      <td>United States</td>\n",
       "      <td>No</td>\n",
       "      <td>Not employed, and not looking for work</td>\n",
       "      <td>Secondary school</td>\n",
       "      <td>NaN</td>\n",
       "      <td>NaN</td>\n",
       "      <td>NaN</td>\n",
       "      <td>...</td>\n",
       "      <td>Strongly disagree</td>\n",
       "      <td>Male</td>\n",
       "      <td>High school</td>\n",
       "      <td>White or of European descent</td>\n",
       "      <td>Strongly disagree</td>\n",
       "      <td>Strongly agree</td>\n",
       "      <td>Disagree</td>\n",
       "      <td>Strongly agree</td>\n",
       "      <td>NaN</td>\n",
       "      <td>NaN</td>\n",
       "    </tr>\n",
       "    <tr>\n",
       "      <th>1</th>\n",
       "      <td>2</td>\n",
       "      <td>Student</td>\n",
       "      <td>Yes, both</td>\n",
       "      <td>United Kingdom</td>\n",
       "      <td>Yes, full-time</td>\n",
       "      <td>Employed part-time</td>\n",
       "      <td>Some college/university study without earning ...</td>\n",
       "      <td>Computer science or software engineering</td>\n",
       "      <td>More than half, but not all, the time</td>\n",
       "      <td>20 to 99 employees</td>\n",
       "      <td>...</td>\n",
       "      <td>Strongly disagree</td>\n",
       "      <td>Male</td>\n",
       "      <td>A master's degree</td>\n",
       "      <td>White or of European descent</td>\n",
       "      <td>Somewhat agree</td>\n",
       "      <td>Somewhat agree</td>\n",
       "      <td>Disagree</td>\n",
       "      <td>Strongly agree</td>\n",
       "      <td>NaN</td>\n",
       "      <td>37500.0</td>\n",
       "    </tr>\n",
       "    <tr>\n",
       "      <th>2</th>\n",
       "      <td>3</td>\n",
       "      <td>Professional developer</td>\n",
       "      <td>Yes, both</td>\n",
       "      <td>United Kingdom</td>\n",
       "      <td>No</td>\n",
       "      <td>Employed full-time</td>\n",
       "      <td>Bachelor's degree</td>\n",
       "      <td>Computer science or software engineering</td>\n",
       "      <td>Less than half the time, but at least one day ...</td>\n",
       "      <td>10,000 or more employees</td>\n",
       "      <td>...</td>\n",
       "      <td>Disagree</td>\n",
       "      <td>Male</td>\n",
       "      <td>A professional degree</td>\n",
       "      <td>White or of European descent</td>\n",
       "      <td>Somewhat agree</td>\n",
       "      <td>Agree</td>\n",
       "      <td>Disagree</td>\n",
       "      <td>Agree</td>\n",
       "      <td>113750.0</td>\n",
       "      <td>NaN</td>\n",
       "    </tr>\n",
       "    <tr>\n",
       "      <th>3</th>\n",
       "      <td>4</td>\n",
       "      <td>Professional non-developer who sometimes write...</td>\n",
       "      <td>Yes, both</td>\n",
       "      <td>United States</td>\n",
       "      <td>No</td>\n",
       "      <td>Employed full-time</td>\n",
       "      <td>Doctoral degree</td>\n",
       "      <td>A non-computer-focused engineering discipline</td>\n",
       "      <td>Less than half the time, but at least one day ...</td>\n",
       "      <td>10,000 or more employees</td>\n",
       "      <td>...</td>\n",
       "      <td>Disagree</td>\n",
       "      <td>Male</td>\n",
       "      <td>A doctoral degree</td>\n",
       "      <td>White or of European descent</td>\n",
       "      <td>Agree</td>\n",
       "      <td>Agree</td>\n",
       "      <td>Somewhat agree</td>\n",
       "      <td>Strongly agree</td>\n",
       "      <td>NaN</td>\n",
       "      <td>NaN</td>\n",
       "    </tr>\n",
       "    <tr>\n",
       "      <th>4</th>\n",
       "      <td>5</td>\n",
       "      <td>Professional developer</td>\n",
       "      <td>Yes, I program as a hobby</td>\n",
       "      <td>Switzerland</td>\n",
       "      <td>No</td>\n",
       "      <td>Employed full-time</td>\n",
       "      <td>Master's degree</td>\n",
       "      <td>Computer science or software engineering</td>\n",
       "      <td>Never</td>\n",
       "      <td>10 to 19 employees</td>\n",
       "      <td>...</td>\n",
       "      <td>NaN</td>\n",
       "      <td>NaN</td>\n",
       "      <td>NaN</td>\n",
       "      <td>NaN</td>\n",
       "      <td>NaN</td>\n",
       "      <td>NaN</td>\n",
       "      <td>NaN</td>\n",
       "      <td>NaN</td>\n",
       "      <td>NaN</td>\n",
       "      <td>NaN</td>\n",
       "    </tr>\n",
       "  </tbody>\n",
       "</table>\n",
       "<p>5 rows × 154 columns</p>\n",
       "</div>"
      ],
      "text/plain": [
       "   Respondent                                       Professional  \\\n",
       "0           1                                            Student   \n",
       "1           2                                            Student   \n",
       "2           3                             Professional developer   \n",
       "3           4  Professional non-developer who sometimes write...   \n",
       "4           5                             Professional developer   \n",
       "\n",
       "                ProgramHobby         Country      University  \\\n",
       "0                  Yes, both   United States              No   \n",
       "1                  Yes, both  United Kingdom  Yes, full-time   \n",
       "2                  Yes, both  United Kingdom              No   \n",
       "3                  Yes, both   United States              No   \n",
       "4  Yes, I program as a hobby     Switzerland              No   \n",
       "\n",
       "                         EmploymentStatus  \\\n",
       "0  Not employed, and not looking for work   \n",
       "1                      Employed part-time   \n",
       "2                      Employed full-time   \n",
       "3                      Employed full-time   \n",
       "4                      Employed full-time   \n",
       "\n",
       "                                     FormalEducation  \\\n",
       "0                                   Secondary school   \n",
       "1  Some college/university study without earning ...   \n",
       "2                                  Bachelor's degree   \n",
       "3                                    Doctoral degree   \n",
       "4                                    Master's degree   \n",
       "\n",
       "                                  MajorUndergrad  \\\n",
       "0                                            NaN   \n",
       "1       Computer science or software engineering   \n",
       "2       Computer science or software engineering   \n",
       "3  A non-computer-focused engineering discipline   \n",
       "4       Computer science or software engineering   \n",
       "\n",
       "                                          HomeRemote  \\\n",
       "0                                                NaN   \n",
       "1              More than half, but not all, the time   \n",
       "2  Less than half the time, but at least one day ...   \n",
       "3  Less than half the time, but at least one day ...   \n",
       "4                                              Never   \n",
       "\n",
       "                CompanySize       ...       StackOverflowMakeMoney Gender  \\\n",
       "0                       NaN       ...            Strongly disagree   Male   \n",
       "1        20 to 99 employees       ...            Strongly disagree   Male   \n",
       "2  10,000 or more employees       ...                     Disagree   Male   \n",
       "3  10,000 or more employees       ...                     Disagree   Male   \n",
       "4        10 to 19 employees       ...                          NaN    NaN   \n",
       "\n",
       "  HighestEducationParents                          Race         SurveyLong  \\\n",
       "0             High school  White or of European descent  Strongly disagree   \n",
       "1       A master's degree  White or of European descent     Somewhat agree   \n",
       "2   A professional degree  White or of European descent     Somewhat agree   \n",
       "3       A doctoral degree  White or of European descent              Agree   \n",
       "4                     NaN                           NaN                NaN   \n",
       "\n",
       "  QuestionsInteresting QuestionsConfusing InterestedAnswers    Salary  \\\n",
       "0       Strongly agree           Disagree    Strongly agree       NaN   \n",
       "1       Somewhat agree           Disagree    Strongly agree       NaN   \n",
       "2                Agree           Disagree             Agree  113750.0   \n",
       "3                Agree     Somewhat agree    Strongly agree       NaN   \n",
       "4                  NaN                NaN               NaN       NaN   \n",
       "\n",
       "   ExpectedSalary  \n",
       "0             NaN  \n",
       "1         37500.0  \n",
       "2             NaN  \n",
       "3             NaN  \n",
       "4             NaN  \n",
       "\n",
       "[5 rows x 154 columns]"
      ]
     },
     "execution_count": 42,
     "metadata": {},
     "output_type": "execute_result"
    }
   ],
   "source": [
    "import numpy as np\n",
    "import pandas as pd\n",
    "import matplotlib.pyplot as plt\n",
    "import seaborn as sns\n",
    "#import HowToBreakIntoTheField as t\n",
    "%matplotlib inline\n",
    "\n",
    "df = pd.read_csv('survey-results-public.csv')\n",
    "schema = pd.read_csv('survey-results-schema.csv')\n",
    "df.head()"
   ]
  },
  {
   "cell_type": "code",
   "execution_count": 43,
   "metadata": {},
   "outputs": [],
   "source": [
    "col_list = list(df.columns) #list of column names"
   ]
  },
  {
   "cell_type": "code",
   "execution_count": 9,
   "metadata": {},
   "outputs": [
    {
     "data": {
      "text/plain": [
       "['Respondent',\n",
       " 'Professional',\n",
       " 'ProgramHobby',\n",
       " 'Country',\n",
       " 'University',\n",
       " 'EmploymentStatus',\n",
       " 'FormalEducation',\n",
       " 'MajorUndergrad',\n",
       " 'HomeRemote',\n",
       " 'CompanySize',\n",
       " 'CompanyType',\n",
       " 'YearsProgram',\n",
       " 'YearsCodedJob',\n",
       " 'YearsCodedJobPast',\n",
       " 'DeveloperType',\n",
       " 'WebDeveloperType',\n",
       " 'MobileDeveloperType',\n",
       " 'NonDeveloperType',\n",
       " 'CareerSatisfaction',\n",
       " 'JobSatisfaction',\n",
       " 'ExCoderReturn',\n",
       " 'ExCoderNotForMe',\n",
       " 'ExCoderBalance',\n",
       " 'ExCoder10Years',\n",
       " 'ExCoderBelonged',\n",
       " 'ExCoderSkills',\n",
       " 'ExCoderWillNotCode',\n",
       " 'ExCoderActive',\n",
       " 'PronounceGIF',\n",
       " 'ProblemSolving',\n",
       " 'BuildingThings',\n",
       " 'LearningNewTech',\n",
       " 'BoringDetails',\n",
       " 'JobSecurity',\n",
       " 'DiversityImportant',\n",
       " 'AnnoyingUI',\n",
       " 'FriendsDevelopers',\n",
       " 'RightWrongWay',\n",
       " 'UnderstandComputers',\n",
       " 'SeriousWork',\n",
       " 'InvestTimeTools',\n",
       " 'WorkPayCare',\n",
       " 'KinshipDevelopers',\n",
       " 'ChallengeMyself',\n",
       " 'CompetePeers',\n",
       " 'ChangeWorld',\n",
       " 'JobSeekingStatus',\n",
       " 'HoursPerWeek',\n",
       " 'LastNewJob',\n",
       " 'AssessJobIndustry',\n",
       " 'AssessJobRole',\n",
       " 'AssessJobExp',\n",
       " 'AssessJobDept',\n",
       " 'AssessJobTech',\n",
       " 'AssessJobProjects',\n",
       " 'AssessJobCompensation',\n",
       " 'AssessJobOffice',\n",
       " 'AssessJobCommute',\n",
       " 'AssessJobRemote',\n",
       " 'AssessJobLeaders',\n",
       " 'AssessJobProfDevel',\n",
       " 'AssessJobDiversity',\n",
       " 'AssessJobProduct',\n",
       " 'AssessJobFinances',\n",
       " 'ImportantBenefits',\n",
       " 'ClickyKeys',\n",
       " 'JobProfile',\n",
       " 'ResumePrompted',\n",
       " 'LearnedHiring',\n",
       " 'ImportantHiringAlgorithms',\n",
       " 'ImportantHiringTechExp',\n",
       " 'ImportantHiringCommunication',\n",
       " 'ImportantHiringOpenSource',\n",
       " 'ImportantHiringPMExp',\n",
       " 'ImportantHiringCompanies',\n",
       " 'ImportantHiringTitles',\n",
       " 'ImportantHiringEducation',\n",
       " 'ImportantHiringRep',\n",
       " 'ImportantHiringGettingThingsDone',\n",
       " 'Currency',\n",
       " 'Overpaid',\n",
       " 'TabsSpaces',\n",
       " 'EducationImportant',\n",
       " 'EducationTypes',\n",
       " 'SelfTaughtTypes',\n",
       " 'TimeAfterBootcamp',\n",
       " 'CousinEducation',\n",
       " 'WorkStart',\n",
       " 'HaveWorkedLanguage',\n",
       " 'WantWorkLanguage',\n",
       " 'HaveWorkedFramework',\n",
       " 'WantWorkFramework',\n",
       " 'HaveWorkedDatabase',\n",
       " 'WantWorkDatabase',\n",
       " 'HaveWorkedPlatform',\n",
       " 'WantWorkPlatform',\n",
       " 'IDE',\n",
       " 'AuditoryEnvironment',\n",
       " 'Methodology',\n",
       " 'VersionControl',\n",
       " 'CheckInCode',\n",
       " 'ShipIt',\n",
       " 'OtherPeoplesCode',\n",
       " 'ProjectManagement',\n",
       " 'EnjoyDebugging',\n",
       " 'InTheZone',\n",
       " 'DifficultCommunication',\n",
       " 'CollaborateRemote',\n",
       " 'MetricAssess',\n",
       " 'EquipmentSatisfiedMonitors',\n",
       " 'EquipmentSatisfiedCPU',\n",
       " 'EquipmentSatisfiedRAM',\n",
       " 'EquipmentSatisfiedStorage',\n",
       " 'EquipmentSatisfiedRW',\n",
       " 'InfluenceInternet',\n",
       " 'InfluenceWorkstation',\n",
       " 'InfluenceHardware',\n",
       " 'InfluenceServers',\n",
       " 'InfluenceTechStack',\n",
       " 'InfluenceDeptTech',\n",
       " 'InfluenceVizTools',\n",
       " 'InfluenceDatabase',\n",
       " 'InfluenceCloud',\n",
       " 'InfluenceConsultants',\n",
       " 'InfluenceRecruitment',\n",
       " 'InfluenceCommunication',\n",
       " 'StackOverflowDescribes',\n",
       " 'StackOverflowSatisfaction',\n",
       " 'StackOverflowDevices',\n",
       " 'StackOverflowFoundAnswer',\n",
       " 'StackOverflowCopiedCode',\n",
       " 'StackOverflowJobListing',\n",
       " 'StackOverflowCompanyPage',\n",
       " 'StackOverflowJobSearch',\n",
       " 'StackOverflowNewQuestion',\n",
       " 'StackOverflowAnswer',\n",
       " 'StackOverflowMetaChat',\n",
       " 'StackOverflowAdsRelevant',\n",
       " 'StackOverflowAdsDistracting',\n",
       " 'StackOverflowModeration',\n",
       " 'StackOverflowCommunity',\n",
       " 'StackOverflowHelpful',\n",
       " 'StackOverflowBetter',\n",
       " 'StackOverflowWhatDo',\n",
       " 'StackOverflowMakeMoney',\n",
       " 'Gender',\n",
       " 'HighestEducationParents',\n",
       " 'Race',\n",
       " 'SurveyLong',\n",
       " 'QuestionsInteresting',\n",
       " 'QuestionsConfusing',\n",
       " 'InterestedAnswers',\n",
       " 'Salary',\n",
       " 'ExpectedSalary']"
      ]
     },
     "execution_count": 9,
     "metadata": {},
     "output_type": "execute_result"
    }
   ],
   "source": [
    "col_list"
   ]
  },
  {
   "cell_type": "code",
   "execution_count": 10,
   "metadata": {},
   "outputs": [
    {
     "data": {
      "text/html": [
       "<div>\n",
       "<style scoped>\n",
       "    .dataframe tbody tr th:only-of-type {\n",
       "        vertical-align: middle;\n",
       "    }\n",
       "\n",
       "    .dataframe tbody tr th {\n",
       "        vertical-align: top;\n",
       "    }\n",
       "\n",
       "    .dataframe thead th {\n",
       "        text-align: right;\n",
       "    }\n",
       "</style>\n",
       "<table border=\"1\" class=\"dataframe\">\n",
       "  <thead>\n",
       "    <tr style=\"text-align: right;\">\n",
       "      <th></th>\n",
       "      <th>Column</th>\n",
       "      <th>Question</th>\n",
       "    </tr>\n",
       "  </thead>\n",
       "  <tbody>\n",
       "    <tr>\n",
       "      <th>0</th>\n",
       "      <td>Respondent</td>\n",
       "      <td>Respondent ID number</td>\n",
       "    </tr>\n",
       "    <tr>\n",
       "      <th>1</th>\n",
       "      <td>Professional</td>\n",
       "      <td>Which of the following best describes you?</td>\n",
       "    </tr>\n",
       "    <tr>\n",
       "      <th>2</th>\n",
       "      <td>ProgramHobby</td>\n",
       "      <td>Do you program as a hobby or contribute to ope...</td>\n",
       "    </tr>\n",
       "  </tbody>\n",
       "</table>\n",
       "</div>"
      ],
      "text/plain": [
       "         Column                                           Question\n",
       "0    Respondent                               Respondent ID number\n",
       "1  Professional         Which of the following best describes you?\n",
       "2  ProgramHobby  Do you program as a hobby or contribute to ope..."
      ]
     },
     "execution_count": 10,
     "metadata": {},
     "output_type": "execute_result"
    }
   ],
   "source": [
    "schema.head(3) #A look at the schema dataset"
   ]
  },
  {
   "cell_type": "code",
   "execution_count": 311,
   "metadata": {},
   "outputs": [
    {
     "data": {
      "text/plain": [
       "'For how many years have you coded as part of your job?'"
      ]
     },
     "execution_count": 311,
     "metadata": {},
     "output_type": "execute_result"
    }
   ],
   "source": [
    "##Use below to find out more about the questions posed\n",
    "XX = schema[schema.Column == 'YearsCodedJob']\n",
    "XX['Question'].values[0]"
   ]
  },
  {
   "cell_type": "code",
   "execution_count": 309,
   "metadata": {},
   "outputs": [
    {
     "data": {
      "text/plain": [
       "247"
      ]
     },
     "execution_count": 309,
     "metadata": {},
     "output_type": "execute_result"
    }
   ],
   "source": [
    "df.YearsProgram.isnull().sum()"
   ]
  },
  {
   "cell_type": "code",
   "execution_count": 296,
   "metadata": {},
   "outputs": [
    {
     "data": {
      "text/plain": [
       "1 to 2 years        5289\n",
       "2 to 3 years        4767\n",
       "3 to 4 years        4003\n",
       "4 to 5 years        3405\n",
       "20 or more years    3067\n",
       "Less than a year    3034\n",
       "5 to 6 years        2990\n",
       "9 to 10 years       1956\n",
       "6 to 7 years        1912\n",
       "10 to 11 years      1678\n",
       "7 to 8 years        1638\n",
       "8 to 9 years        1287\n",
       "15 to 16 years       845\n",
       "14 to 15 years       840\n",
       "11 to 12 years       838\n",
       "12 to 13 years       741\n",
       "16 to 17 years       694\n",
       "17 to 18 years       545\n",
       "13 to 14 years       531\n",
       "19 to 20 years       427\n",
       "18 to 19 years       403\n",
       "Name: YearsCodedJob, dtype: int64"
      ]
     },
     "execution_count": 296,
     "metadata": {},
     "output_type": "execute_result"
    }
   ],
   "source": [
    "#Take a look at the different responses they gave\n",
    "df.YearsCodedJob.value_counts()"
   ]
  },
  {
   "cell_type": "code",
   "execution_count": 328,
   "metadata": {},
   "outputs": [
    {
     "data": {
      "text/plain": [
       "U.S. dollars ($)               7073\n",
       "Euros (€)                      5849\n",
       "British pounds sterling (£)    2176\n",
       "Indian rupees (?)              2176\n",
       "Canadian dollars (C$)          1062\n",
       "Polish zloty (zl)               564\n",
       "Australian dollars (A$)         469\n",
       "Russian rubles (?)              366\n",
       "Brazilian reais (R$)            359\n",
       "Swedish kroner (SEK)            306\n",
       "Swiss francs                    300\n",
       "South African rands (R)         174\n",
       "Mexican pesos (MXN$)            144\n",
       "Japanese yen (¥)                123\n",
       "Chinese yuan renminbi (¥)       121\n",
       "Singapore dollars (S$)           79\n",
       "Bitcoin (btc)                    67\n",
       "Name: Currency, dtype: int64"
      ]
     },
     "execution_count": 328,
     "metadata": {},
     "output_type": "execute_result"
    }
   ],
   "source": [
    "df.Currency.value_counts()"
   ]
  },
  {
   "cell_type": "code",
   "execution_count": 298,
   "metadata": {},
   "outputs": [
    {
     "data": {
      "text/plain": [
       "(51392, 154)"
      ]
     },
     "execution_count": 298,
     "metadata": {},
     "output_type": "execute_result"
    }
   ],
   "source": [
    "df.shape"
   ]
  },
  {
   "cell_type": "code",
   "execution_count": 297,
   "metadata": {},
   "outputs": [
    {
     "data": {
      "text/plain": [
       "51392"
      ]
     },
     "execution_count": 297,
     "metadata": {},
     "output_type": "execute_result"
    }
   ],
   "source": [
    "df.YearsCodedJob.isnull().count()"
   ]
  },
  {
   "cell_type": "code",
   "execution_count": null,
   "metadata": {},
   "outputs": [],
   "source": []
  },
  {
   "cell_type": "code",
   "execution_count": null,
   "metadata": {},
   "outputs": [],
   "source": []
  },
  {
   "cell_type": "code",
   "execution_count": null,
   "metadata": {},
   "outputs": [],
   "source": []
  },
  {
   "cell_type": "markdown",
   "metadata": {},
   "source": [
    "## What are the sexiest jobs in the information technology industry?"
   ]
  },
  {
   "cell_type": "markdown",
   "metadata": {},
   "source": [
    "### Part 1: Take a look at different developer_types and their salaries levels"
   ]
  },
  {
   "cell_type": "code",
   "execution_count": null,
   "metadata": {},
   "outputs": [],
   "source": [
    "#dev_sal = df[['DeveloperType','Salary','Country','HaveWorkedLanguage',]]"
   ]
  },
  {
   "cell_type": "code",
   "execution_count": 17,
   "metadata": {},
   "outputs": [
    {
     "data": {
      "text/plain": [
       "Web developer                                                                                                                                                                                                                                                                                          10683\n",
       "Web developer; Desktop applications developer                                                                                                                                                                                                                                                           1849\n",
       "Mobile developer                                                                                                                                                                                                                                                                                        1556\n",
       "Web developer; Mobile developer                                                                                                                                                                                                                                                                         1503\n",
       "Desktop applications developer                                                                                                                                                                                                                                                                          1433\n",
       "Other                                                                                                                                                                                                                                                                                                   1174\n",
       "Web developer; Mobile developer; Desktop applications developer                                                                                                                                                                                                                                          754\n",
       "Web developer; DevOps specialist                                                                                                                                                                                                                                                                         713\n",
       "Embedded applications/devices developer                                                                                                                                                                                                                                                                  664\n",
       "Web developer; Database administrator                                                                                                                                                                                                                                                                    505\n",
       "Developer with a statistics or mathematics background                                                                                                                                                                                                                                                    485\n",
       "Web developer; Developer with a statistics or mathematics background                                                                                                                                                                                                                                     453\n",
       "Web developer; Desktop applications developer; Database administrator                                                                                                                                                                                                                                    381\n",
       "Web developer; Database administrator; Systems administrator                                                                                                                                                                                                                                             295\n",
       "Web developer; Systems administrator                                                                                                                                                                                                                                                                     279\n",
       "Web developer; Other                                                                                                                                                                                                                                                                                     276\n",
       "Data scientist                                                                                                                                                                                                                                                                                           249\n",
       "Mobile developer; Desktop applications developer                                                                                                                                                                                                                                                         244\n",
       "Embedded applications/devices developer; Desktop applications developer                                                                                                                                                                                                                                  228\n",
       "Web developer; Systems administrator; DevOps specialist                                                                                                                                                                                                                                                  226\n",
       "Web developer; Database administrator; Systems administrator; DevOps specialist                                                                                                                                                                                                                          205\n",
       "Web developer; Graphic designer                                                                                                                                                                                                                                                                          204\n",
       "Web developer; Data scientist                                                                                                                                                                                                                                                                            198\n",
       "DevOps specialist                                                                                                                                                                                                                                                                                        192\n",
       "Web developer; Developer with a statistics or mathematics background; Desktop applications developer                                                                                                                                                                                                     183\n",
       "Web developer; Desktop applications developer; DevOps specialist                                                                                                                                                                                                                                         178\n",
       "Web developer; Desktop applications developer; Database administrator; Systems administrator                                                                                                                                                                                                             161\n",
       "Developer with a statistics or mathematics background; Desktop applications developer                                                                                                                                                                                                                    147\n",
       "Web developer; Embedded applications/devices developer; Desktop applications developer                                                                                                                                                                                                                   141\n",
       "Web developer; Mobile developer; Desktop applications developer; Database administrator                                                                                                                                                                                                                  138\n",
       "                                                                                                                                                                                                                                                                                                       ...  \n",
       "Web developer; Mobile developer; Embedded applications/devices developer; Graphics programming; Developer with a statistics or mathematics background; Desktop applications developer; Database administrator; Systems administrator; DevOps specialist                                                    1\n",
       "Web developer; Data scientist; Systems administrator; DevOps specialist; Other                                                                                                                                                                                                                             1\n",
       "Web developer; Mobile developer; Embedded applications/devices developer; Graphics programming; Developer with a statistics or mathematics background; Data scientist; Desktop applications developer; Database administrator; Systems administrator; DevOps specialist; Quality assurance engineer        1\n",
       "Web developer; Mobile developer; Data scientist; Systems administrator; DevOps specialist; Quality assurance engineer                                                                                                                                                                                      1\n",
       "Mobile developer; Embedded applications/devices developer; Machine learning specialist; Developer with a statistics or mathematics background; Data scientist; Graphic designer; Desktop applications developer; Database administrator; Systems administrator                                             1\n",
       "Web developer; Graphics programming; Desktop applications developer; Quality assurance engineer; Other                                                                                                                                                                                                     1\n",
       "Machine learning specialist; Data scientist; Systems administrator; DevOps specialist                                                                                                                                                                                                                      1\n",
       "Mobile developer; Embedded applications/devices developer; Graphics programming; Machine learning specialist; Data scientist; Systems administrator                                                                                                                                                        1\n",
       "Web developer; Embedded applications/devices developer; Graphics programming; Machine learning specialist; Systems administrator                                                                                                                                                                           1\n",
       "Web developer; Mobile developer; Embedded applications/devices developer; Graphics programming; Machine learning specialist; Developer with a statistics or mathematics background; Data scientist; Database administrator; DevOps specialist                                                              1\n",
       "Web developer; Machine learning specialist; Developer with a statistics or mathematics background; Graphic designer; Desktop applications developer; Database administrator                                                                                                                                1\n",
       "Web developer; Embedded applications/devices developer; Developer with a statistics or mathematics background; Data scientist; Desktop applications developer; Quality assurance engineer                                                                                                                  1\n",
       "Mobile developer; Embedded applications/devices developer; Database administrator; Systems administrator; DevOps specialist                                                                                                                                                                                1\n",
       "Web developer; Mobile developer; Embedded applications/devices developer; Desktop applications developer; Systems administrator; Quality assurance engineer                                                                                                                                                1\n",
       "Web developer; Embedded applications/devices developer; Graphics programming; Developer with a statistics or mathematics background; Database administrator; Systems administrator                                                                                                                         1\n",
       "Web developer; Mobile developer; Developer with a statistics or mathematics background; Data scientist; Graphic designer; Desktop applications developer; Database administrator; Systems administrator; Quality assurance engineer                                                                        1\n",
       "Web developer; Embedded applications/devices developer; Database administrator; DevOps specialist; Quality assurance engineer                                                                                                                                                                              1\n",
       "Web developer; Developer with a statistics or mathematics background; Desktop applications developer; Database administrator; Systems administrator; Quality assurance engineer                                                                                                                            1\n",
       "Web developer; Mobile developer; Embedded applications/devices developer; Graphics programming; Developer with a statistics or mathematics background; Data scientist; Graphic designer; Desktop applications developer; Database administrator                                                            1\n",
       "Graphics programming; Data scientist; Desktop applications developer; DevOps specialist                                                                                                                                                                                                                    1\n",
       "Data scientist; Desktop applications developer; Systems administrator; Quality assurance engineer                                                                                                                                                                                                          1\n",
       "Web developer; Mobile developer; Embedded applications/devices developer; Developer with a statistics or mathematics background; Data scientist; Graphic designer; Desktop applications developer; Database administrator; Systems administrator; Quality assurance engineer                               1\n",
       "Mobile developer; Embedded applications/devices developer; Data scientist; Desktop applications developer; Database administrator                                                                                                                                                                          1\n",
       "Mobile developer; Database administrator; Systems administrator; DevOps specialist; Other                                                                                                                                                                                                                  1\n",
       "Embedded applications/devices developer; Machine learning specialist; Data scientist; Database administrator; Systems administrator; Quality assurance engineer                                                                                                                                            1\n",
       "Web developer; Mobile developer; Embedded applications/devices developer; Machine learning specialist; Systems administrator                                                                                                                                                                               1\n",
       "Web developer; Mobile developer; Embedded applications/devices developer; Graphics programming; Developer with a statistics or mathematics background; Data scientist; Graphic designer; Database administrator; Systems administrator                                                                     1\n",
       "Graphics programming; Machine learning specialist; Developer with a statistics or mathematics background; Graphic designer; Desktop applications developer                                                                                                                                                 1\n",
       "Developer with a statistics or mathematics background; Database administrator; Systems administrator; Quality assurance engineer                                                                                                                                                                           1\n",
       "Mobile developer; Embedded applications/devices developer; Developer with a statistics or mathematics background; Other                                                                                                                                                                                    1\n",
       "Name: DeveloperType, Length: 1823, dtype: int64"
      ]
     },
     "execution_count": 17,
     "metadata": {},
     "output_type": "execute_result"
    }
   ],
   "source": [
    "df.DeveloperType.value_counts()"
   ]
  },
  {
   "cell_type": "code",
   "execution_count": 65,
   "metadata": {},
   "outputs": [],
   "source": [
    "#This will return a list of distinct element among all responses.\n",
    "def extract_each(dat_df,Column1):\n",
    "    hy = []\n",
    "    #dat_df[Column].dropna(axis = 0, how = 'any')\n",
    "    col_list = list(dat_df[Column].values)\n",
    "    for i in col_list:\n",
    "        gt = pd.Series([1])\n",
    "        #if gt.isnull().any() == True:\n",
    "            #continue\n",
    "        gh = str(i).split(';')\n",
    "        gh = [i.lstrip() for i in gh]\n",
    "        hy.append(gh)\n",
    "    hy1 = [i for i in hy for i in i]\n",
    "    hy1 = pd.Series(hy1).dropna(how = any)\n",
    "    return hy1"
   ]
  },
  {
   "cell_type": "code",
   "execution_count": 90,
   "metadata": {},
   "outputs": [
    {
     "data": {
      "text/plain": [
       "['111', '222', '333', '444']"
      ]
     },
     "execution_count": 90,
     "metadata": {},
     "output_type": "execute_result"
    }
   ],
   "source": [
    "dv = [1,2,3,4]\n",
    "ft = dv[2]\n",
    "ty = list(df['DeveloperType'].values)\n",
    "#   print(k)\n",
    "gb = [str(i)*3 for i in dv]\n",
    "gb"
   ]
  },
  {
   "cell_type": "code",
   "execution_count": 93,
   "metadata": {},
   "outputs": [
    {
     "data": {
      "text/plain": [
       "['1', '1', '1', '2', '2', '2', '3', '3', '3', '4', '4', '4']"
      ]
     },
     "execution_count": 93,
     "metadata": {},
     "output_type": "execute_result"
    }
   ],
   "source": [
    "gb = [list(str(i)*3) for i in dv]\n",
    "gb = [i for i in gb for i in i]\n",
    "gb"
   ]
  },
  {
   "cell_type": "code",
   "execution_count": 100,
   "metadata": {},
   "outputs": [
    {
     "data": {
      "text/plain": [
       "['Other', 'Other', 'Other']"
      ]
     },
     "execution_count": 100,
     "metadata": {},
     "output_type": "execute_result"
    }
   ],
   "source": [
    "ty = list(df['DeveloperType'].values)\n",
    "[ty[2]]*3"
   ]
  },
  {
   "cell_type": "code",
   "execution_count": 103,
   "metadata": {},
   "outputs": [],
   "source": [
    "#This will return a list of distinct element among all responses.\n",
    "hy = []\n",
    "SalLst = []\n",
    "Cntrylst = []\n",
    "JobSatLst = []\n",
    "sal = list(df['Salary'].values)\n",
    "Cntry = list(df['Country'].values)\n",
    "JobSat = list(df['JobSatisfaction'].values)\n",
    "#dat_df[Column].dropna(axis = 0, how = 'any')\n",
    "col_list = list(df['DeveloperType'].values)\n",
    "for i,j in df['DeveloperType'].items():\n",
    "    gh = str(j).split(';')\n",
    "    gh = [j.lstrip() for j in gh]\n",
    "    hy.append(gh)\n",
    "    bs = [sal[i]]*len(gh)\n",
    "    SalLst.append(bs)\n",
    "    bj = [JobSat[i]]*len(gh)\n",
    "    JobSatLst.append(bj)\n",
    "    bc = [Cntry[i]]*len(gh)\n",
    "    Cntrylst.append(bc)\n",
    "hy1 = [i for i in hy for i in i]\n",
    "SalLst1 = [k for k in SalLst for k in k]\n",
    "Cntry1 = [h for h in Cntrylst for h in h]\n",
    "JobSat1 = [n for n in JobSatLst for n in n]"
   ]
  },
  {
   "cell_type": "code",
   "execution_count": 130,
   "metadata": {},
   "outputs": [
    {
     "data": {
      "text/html": [
       "<div>\n",
       "<style scoped>\n",
       "    .dataframe tbody tr th:only-of-type {\n",
       "        vertical-align: middle;\n",
       "    }\n",
       "\n",
       "    .dataframe tbody tr th {\n",
       "        vertical-align: top;\n",
       "    }\n",
       "\n",
       "    .dataframe thead th {\n",
       "        text-align: right;\n",
       "    }\n",
       "</style>\n",
       "<table border=\"1\" class=\"dataframe\">\n",
       "  <thead>\n",
       "    <tr style=\"text-align: right;\">\n",
       "      <th></th>\n",
       "      <th>DevType</th>\n",
       "      <th>Country</th>\n",
       "      <th>JobSat</th>\n",
       "      <th>Salary</th>\n",
       "    </tr>\n",
       "  </thead>\n",
       "  <tbody>\n",
       "    <tr>\n",
       "      <th>0</th>\n",
       "      <td>nan</td>\n",
       "      <td>United States</td>\n",
       "      <td>NaN</td>\n",
       "      <td>NaN</td>\n",
       "    </tr>\n",
       "    <tr>\n",
       "      <th>1</th>\n",
       "      <td>nan</td>\n",
       "      <td>United Kingdom</td>\n",
       "      <td>NaN</td>\n",
       "      <td>NaN</td>\n",
       "    </tr>\n",
       "    <tr>\n",
       "      <th>2</th>\n",
       "      <td>Other</td>\n",
       "      <td>United Kingdom</td>\n",
       "      <td>9.0</td>\n",
       "      <td>113750.0</td>\n",
       "    </tr>\n",
       "    <tr>\n",
       "      <th>3</th>\n",
       "      <td>nan</td>\n",
       "      <td>United States</td>\n",
       "      <td>3.0</td>\n",
       "      <td>NaN</td>\n",
       "    </tr>\n",
       "    <tr>\n",
       "      <th>4</th>\n",
       "      <td>Mobile developer</td>\n",
       "      <td>Switzerland</td>\n",
       "      <td>8.0</td>\n",
       "      <td>NaN</td>\n",
       "    </tr>\n",
       "    <tr>\n",
       "      <th>5</th>\n",
       "      <td>Graphics programming</td>\n",
       "      <td>Switzerland</td>\n",
       "      <td>8.0</td>\n",
       "      <td>NaN</td>\n",
       "    </tr>\n",
       "    <tr>\n",
       "      <th>6</th>\n",
       "      <td>Desktop applications developer</td>\n",
       "      <td>Switzerland</td>\n",
       "      <td>8.0</td>\n",
       "      <td>NaN</td>\n",
       "    </tr>\n",
       "    <tr>\n",
       "      <th>7</th>\n",
       "      <td>nan</td>\n",
       "      <td>New Zealand</td>\n",
       "      <td>NaN</td>\n",
       "      <td>NaN</td>\n",
       "    </tr>\n",
       "    <tr>\n",
       "      <th>8</th>\n",
       "      <td>nan</td>\n",
       "      <td>United States</td>\n",
       "      <td>6.0</td>\n",
       "      <td>NaN</td>\n",
       "    </tr>\n",
       "    <tr>\n",
       "      <th>9</th>\n",
       "      <td>Web developer</td>\n",
       "      <td>Poland</td>\n",
       "      <td>7.0</td>\n",
       "      <td>NaN</td>\n",
       "    </tr>\n",
       "    <tr>\n",
       "      <th>10</th>\n",
       "      <td>Web developer</td>\n",
       "      <td>Colombia</td>\n",
       "      <td>6.0</td>\n",
       "      <td>NaN</td>\n",
       "    </tr>\n",
       "    <tr>\n",
       "      <th>11</th>\n",
       "      <td>Mobile developer</td>\n",
       "      <td>Colombia</td>\n",
       "      <td>6.0</td>\n",
       "      <td>NaN</td>\n",
       "    </tr>\n",
       "    <tr>\n",
       "      <th>12</th>\n",
       "      <td>Mobile developer</td>\n",
       "      <td>France</td>\n",
       "      <td>8.0</td>\n",
       "      <td>NaN</td>\n",
       "    </tr>\n",
       "    <tr>\n",
       "      <th>13</th>\n",
       "      <td>Desktop applications developer</td>\n",
       "      <td>France</td>\n",
       "      <td>8.0</td>\n",
       "      <td>NaN</td>\n",
       "    </tr>\n",
       "    <tr>\n",
       "      <th>14</th>\n",
       "      <td>nan</td>\n",
       "      <td>United States</td>\n",
       "      <td>9.0</td>\n",
       "      <td>NaN</td>\n",
       "    </tr>\n",
       "    <tr>\n",
       "      <th>15</th>\n",
       "      <td>Web developer</td>\n",
       "      <td>Canada</td>\n",
       "      <td>6.0</td>\n",
       "      <td>NaN</td>\n",
       "    </tr>\n",
       "    <tr>\n",
       "      <th>16</th>\n",
       "      <td>nan</td>\n",
       "      <td>United Kingdom</td>\n",
       "      <td>NaN</td>\n",
       "      <td>NaN</td>\n",
       "    </tr>\n",
       "    <tr>\n",
       "      <th>17</th>\n",
       "      <td>Web developer</td>\n",
       "      <td>Germany</td>\n",
       "      <td>6.0</td>\n",
       "      <td>NaN</td>\n",
       "    </tr>\n",
       "    <tr>\n",
       "      <th>18</th>\n",
       "      <td>Embedded applications/devices developer</td>\n",
       "      <td>United Kingdom</td>\n",
       "      <td>8.0</td>\n",
       "      <td>100000.0</td>\n",
       "    </tr>\n",
       "    <tr>\n",
       "      <th>19</th>\n",
       "      <td>Desktop applications developer</td>\n",
       "      <td>United States</td>\n",
       "      <td>8.0</td>\n",
       "      <td>NaN</td>\n",
       "    </tr>\n",
       "  </tbody>\n",
       "</table>\n",
       "</div>"
      ],
      "text/plain": [
       "                                    DevType         Country  JobSat    Salary\n",
       "0                                       nan   United States     NaN       NaN\n",
       "1                                       nan  United Kingdom     NaN       NaN\n",
       "2                                     Other  United Kingdom     9.0  113750.0\n",
       "3                                       nan   United States     3.0       NaN\n",
       "4                          Mobile developer     Switzerland     8.0       NaN\n",
       "5                      Graphics programming     Switzerland     8.0       NaN\n",
       "6            Desktop applications developer     Switzerland     8.0       NaN\n",
       "7                                       nan     New Zealand     NaN       NaN\n",
       "8                                       nan   United States     6.0       NaN\n",
       "9                             Web developer          Poland     7.0       NaN\n",
       "10                            Web developer        Colombia     6.0       NaN\n",
       "11                         Mobile developer        Colombia     6.0       NaN\n",
       "12                         Mobile developer          France     8.0       NaN\n",
       "13           Desktop applications developer          France     8.0       NaN\n",
       "14                                      nan   United States     9.0       NaN\n",
       "15                            Web developer          Canada     6.0       NaN\n",
       "16                                      nan  United Kingdom     NaN       NaN\n",
       "17                            Web developer         Germany     6.0       NaN\n",
       "18  Embedded applications/devices developer  United Kingdom     8.0  100000.0\n",
       "19           Desktop applications developer   United States     8.0       NaN"
      ]
     },
     "execution_count": 130,
     "metadata": {},
     "output_type": "execute_result"
    }
   ],
   "source": [
    "my_df = pd.DataFrame({'DevType':hy1,'Country':Cntry1,'JobSat':JobSat1,'Salary':SalLst1})\n",
    "my_df.head(20)"
   ]
  },
  {
   "cell_type": "code",
   "execution_count": 380,
   "metadata": {},
   "outputs": [],
   "source": [
    "## I decided to write a function that can be\n",
    "## used to get an equivalent drop down of responses in a target_column that match the results of\n",
    "## splitting multiple responses in a given pseudo_column as done above.\n",
    "## dat_df is the original dataframe containing pseudo and target columns\n",
    "## pseudo_col is the column with multiple responses in each row, that need to be split\n",
    "## target_col is the column that need to be mapped/dropped-down to fit the result of such split\n",
    "## split_by is the seperator symbol between the multiple responses in each row of pseudo_col\n",
    "## returns a dataframe of the pseudo_col and target_col values that match in length\n",
    "def drop_down(dat_df, pseudo_col, target_col, split_by):\n",
    "    TagLst = []\n",
    "    PseudoLst = []\n",
    "    Col1 = list(dat_df[pseudo_col].values)\n",
    "    Col2 = list(dat_df[target_col].values)\n",
    "    for i,j in dat_df[pseudo_col].items():\n",
    "        gh = str(j).split(split_by)\n",
    "        gh = [j.lstrip() for j in gh]\n",
    "        PseudoLst.append(gh)\n",
    "        bs = [Col2[i]]*len(gh)\n",
    "        TagLst.append(bs)\n",
    "    PseudoLst1 = [i for i in PseudoLst for i in i]\n",
    "    TagLst1 = [i for i in TagLst for i in i]\n",
    "    return pd.DataFrame({dat_df[pseudo_col].name:PseudoLst1,dat_df[target_col].name:TagLst1})\n",
    "    return pd.DataFrame({dat_df[pseudo_col].name:PseudoLst1,dat_df[target_col].name:TagLst1})"
   ]
  },
  {
   "cell_type": "code",
   "execution_count": 118,
   "metadata": {},
   "outputs": [
    {
     "data": {
      "text/plain": [
       "DevType        0\n",
       "Country        0\n",
       "JobSat     12604\n",
       "Salary     65821\n",
       "dtype: int64"
      ]
     },
     "execution_count": 118,
     "metadata": {},
     "output_type": "execute_result"
    }
   ],
   "source": [
    "my_df.isnull().sum()"
   ]
  },
  {
   "cell_type": "code",
   "execution_count": 126,
   "metadata": {},
   "outputs": [
    {
     "data": {
      "text/plain": [
       "(92526, 4)"
      ]
     },
     "execution_count": 126,
     "metadata": {},
     "output_type": "execute_result"
    }
   ],
   "source": [
    "my_df.shape"
   ]
  },
  {
   "cell_type": "code",
   "execution_count": 132,
   "metadata": {},
   "outputs": [],
   "source": [
    "my_df = my_df[my_df.DevType != 'nan'] #Remove all 'nan' answers for developers since they are not recognized as NaN"
   ]
  },
  {
   "cell_type": "code",
   "execution_count": 133,
   "metadata": {},
   "outputs": [
    {
     "data": {
      "text/plain": [
       "Web developer                                            26235\n",
       "Desktop applications developer                           10435\n",
       "Mobile developer                                          8326\n",
       "Database administrator                                    5192\n",
       "Developer with a statistics or mathematics background     4091\n",
       "Systems administrator                                     4086\n",
       "DevOps specialist                                         4015\n",
       "Embedded applications/devices developer                   3352\n",
       "Data scientist                                            3045\n",
       "Other                                                     2694\n",
       "Graphics programming                                      1731\n",
       "Graphic designer                                          1426\n",
       "Machine learning specialist                               1379\n",
       "Quality assurance engineer                                1252\n",
       "Name: DevType, dtype: int64"
      ]
     },
     "execution_count": 133,
     "metadata": {},
     "output_type": "execute_result"
    }
   ],
   "source": [
    "my_df.DevType.value_counts()"
   ]
  },
  {
   "cell_type": "code",
   "execution_count": 143,
   "metadata": {},
   "outputs": [],
   "source": [
    "#Select only respondents from the US\n",
    "#This is to keep the salaries in the same currency, and avoid ambiguous comparism\n",
    "US_df = my_df[my_df.Country == 'United States']\n",
    "US_df = US_df.dropna(subset = ['JobSat','Salary'], how = 'any')#Drop all NaN responses in JobSat and Salary columns\n",
    "US_df = US_df.drop('Country', axis = 1)#The country column in no longer needed"
   ]
  },
  {
   "cell_type": "code",
   "execution_count": 144,
   "metadata": {},
   "outputs": [
    {
     "data": {
      "text/plain": [
       "DevType    0\n",
       "JobSat     0\n",
       "Salary     0\n",
       "dtype: int64"
      ]
     },
     "execution_count": 144,
     "metadata": {},
     "output_type": "execute_result"
    }
   ],
   "source": [
    "US_df.isnull().sum()"
   ]
  },
  {
   "cell_type": "code",
   "execution_count": 317,
   "metadata": {},
   "outputs": [
    {
     "data": {
      "text/plain": [
       "(7751, 3)"
      ]
     },
     "execution_count": 317,
     "metadata": {},
     "output_type": "execute_result"
    }
   ],
   "source": [
    "US_df.shape"
   ]
  },
  {
   "cell_type": "code",
   "execution_count": 321,
   "metadata": {},
   "outputs": [],
   "source": [
    "US_df['Norm_Sal'] = ((US_df['Salary'] - US_df['Salary'].min())/(US_df['Salary'].max() - US_df['Salary'].min()))*10\n",
    "#New column to normalize salary column to match JobSat"
   ]
  },
  {
   "cell_type": "code",
   "execution_count": 322,
   "metadata": {},
   "outputs": [
    {
     "data": {
      "text/html": [
       "<div>\n",
       "<style scoped>\n",
       "    .dataframe tbody tr th:only-of-type {\n",
       "        vertical-align: middle;\n",
       "    }\n",
       "\n",
       "    .dataframe tbody tr th {\n",
       "        vertical-align: top;\n",
       "    }\n",
       "\n",
       "    .dataframe thead th {\n",
       "        text-align: right;\n",
       "    }\n",
       "</style>\n",
       "<table border=\"1\" class=\"dataframe\">\n",
       "  <thead>\n",
       "    <tr style=\"text-align: right;\">\n",
       "      <th></th>\n",
       "      <th>DevType</th>\n",
       "      <th>JobSat</th>\n",
       "      <th>Salary</th>\n",
       "      <th>Norm_Sal</th>\n",
       "    </tr>\n",
       "  </thead>\n",
       "  <tbody>\n",
       "    <tr>\n",
       "      <th>21</th>\n",
       "      <td>Web developer</td>\n",
       "      <td>8.0</td>\n",
       "      <td>130000.0</td>\n",
       "      <td>6.598898</td>\n",
       "    </tr>\n",
       "    <tr>\n",
       "      <th>22</th>\n",
       "      <td>Embedded applications/devices developer</td>\n",
       "      <td>8.0</td>\n",
       "      <td>130000.0</td>\n",
       "      <td>6.598898</td>\n",
       "    </tr>\n",
       "    <tr>\n",
       "      <th>23</th>\n",
       "      <td>DevOps specialist</td>\n",
       "      <td>8.0</td>\n",
       "      <td>130000.0</td>\n",
       "      <td>6.598898</td>\n",
       "    </tr>\n",
       "    <tr>\n",
       "      <th>24</th>\n",
       "      <td>Quality assurance engineer</td>\n",
       "      <td>8.0</td>\n",
       "      <td>130000.0</td>\n",
       "      <td>6.598898</td>\n",
       "    </tr>\n",
       "    <tr>\n",
       "      <th>25</th>\n",
       "      <td>Other</td>\n",
       "      <td>8.0</td>\n",
       "      <td>130000.0</td>\n",
       "      <td>6.598898</td>\n",
       "    </tr>\n",
       "  </tbody>\n",
       "</table>\n",
       "</div>"
      ],
      "text/plain": [
       "                                    DevType  JobSat    Salary  Norm_Sal\n",
       "21                            Web developer     8.0  130000.0  6.598898\n",
       "22  Embedded applications/devices developer     8.0  130000.0  6.598898\n",
       "23                        DevOps specialist     8.0  130000.0  6.598898\n",
       "24               Quality assurance engineer     8.0  130000.0  6.598898\n",
       "25                                    Other     8.0  130000.0  6.598898"
      ]
     },
     "execution_count": 322,
     "metadata": {},
     "output_type": "execute_result"
    }
   ],
   "source": [
    "US_df.head()"
   ]
  },
  {
   "cell_type": "code",
   "execution_count": 401,
   "metadata": {},
   "outputs": [
    {
     "data": {
      "text/plain": [
       "<Figure size 1512x864 with 0 Axes>"
      ]
     },
     "metadata": {},
     "output_type": "display_data"
    },
    {
     "data": {
      "image/png": "[encoded data removed]",
      "text/plain": [
       "<Figure size 720x360 with 1 Axes>"
      ]
     },
     "metadata": {
      "needs_background": "light"
     },
     "output_type": "display_data"
    }
   ],
   "source": [
    "plt.figure(figsize=(21, 12))\n",
    "chart = sns.catplot(x=\"DevType\", kind=\"count\", data=US_df, aspect = 2)\n",
    "chart.set_xticklabels(rotation=90, fontsize = 12)\n",
    "chart.set_yticklabels(fontsize = 12)\n",
    "chart.set_xlabels('', fontsize = 12)\n",
    "chart.set_ylabels('Population of Respondents', fontsize = 12)\n",
    "plt.title('Survey respondents from the US', fontsize = 15)\n",
    "plt.show()"
   ]
  },
  {
   "cell_type": "markdown",
   "metadata": {},
   "source": [
    "##### Clearly, web decvelopers are the most populous developer types among survey respondents. followed by desktop application developers, and mobile developers"
   ]
  },
  {
   "cell_type": "code",
   "execution_count": 335,
   "metadata": {},
   "outputs": [
    {
     "data": {
      "text/html": [
       "<div>\n",
       "<style scoped>\n",
       "    .dataframe tbody tr th:only-of-type {\n",
       "        vertical-align: middle;\n",
       "    }\n",
       "\n",
       "    .dataframe tbody tr th {\n",
       "        vertical-align: top;\n",
       "    }\n",
       "\n",
       "    .dataframe thead th {\n",
       "        text-align: right;\n",
       "    }\n",
       "</style>\n",
       "<table border=\"1\" class=\"dataframe\">\n",
       "  <thead>\n",
       "    <tr style=\"text-align: right;\">\n",
       "      <th></th>\n",
       "      <th>DevType</th>\n",
       "      <th>JobSat</th>\n",
       "    </tr>\n",
       "  </thead>\n",
       "  <tbody>\n",
       "    <tr>\n",
       "      <th>21</th>\n",
       "      <td>Web developer</td>\n",
       "      <td>8.0</td>\n",
       "    </tr>\n",
       "    <tr>\n",
       "      <th>22</th>\n",
       "      <td>Embedded applications/devices developer</td>\n",
       "      <td>8.0</td>\n",
       "    </tr>\n",
       "    <tr>\n",
       "      <th>23</th>\n",
       "      <td>DevOps specialist</td>\n",
       "      <td>8.0</td>\n",
       "    </tr>\n",
       "    <tr>\n",
       "      <th>24</th>\n",
       "      <td>Quality assurance engineer</td>\n",
       "      <td>8.0</td>\n",
       "    </tr>\n",
       "    <tr>\n",
       "      <th>25</th>\n",
       "      <td>Other</td>\n",
       "      <td>8.0</td>\n",
       "    </tr>\n",
       "  </tbody>\n",
       "</table>\n",
       "</div>"
      ],
      "text/plain": [
       "                                    DevType  JobSat\n",
       "21                            Web developer     8.0\n",
       "22  Embedded applications/devices developer     8.0\n",
       "23                        DevOps specialist     8.0\n",
       "24               Quality assurance engineer     8.0\n",
       "25                                    Other     8.0"
      ]
     },
     "execution_count": 335,
     "metadata": {},
     "output_type": "execute_result"
    }
   ],
   "source": [
    "US_df1 = US_df.loc[:, ['DevType','JobSat']]\n",
    "US_df2 = US_df.loc[:, ['DevType','Salary']]\n",
    "#US_df1.set_index('DevType',inplace = True)\n",
    "#US_df2.set_index('DevType',inplace = True)\n",
    "US_df1.head()"
   ]
  },
  {
   "cell_type": "markdown",
   "metadata": {},
   "source": [
    "##### To find out the hottest jobs in the tech. industry, I created a plot of the developer types and their salaries as reported by respondents\n",
    "##### In addition, I juxtaposed this with the job satisfaction. This was to see if the salaires are an impoortant decider of job satisfaction\n",
    "##### Take note that the salary was normalized to range from 0 to 10 so as to match the job satisfaction scale."
   ]
  },
  {
   "cell_type": "code",
   "execution_count": 405,
   "metadata": {},
   "outputs": [
    {
     "data": {
      "text/plain": [
       "<Figure size 1512x864 with 0 Axes>"
      ]
     },
     "metadata": {},
     "output_type": "display_data"
    },
    {
     "data": {
      "image/png": "[encoded data removed]",
      "text/plain": [
       "<Figure size 720x360 with 1 Axes>"
      ]
     },
     "metadata": {
      "needs_background": "light"
     },
     "output_type": "display_data"
    },
    {
     "data": {
      "image/png": "[encoded data removed]",
      "text/plain": [
       "<Figure size 720x360 with 1 Axes>"
      ]
     },
     "metadata": {
      "needs_background": "light"
     },
     "output_type": "display_data"
    }
   ],
   "source": [
    "plt.figure(figsize=(21, 12))\n",
    "chart1 = sns.catplot(x=\"DevType\",y = 'Norm_Sal', kind=\"box\", data=US_df, aspect = 2)\n",
    "chart1.set_xticklabels(rotation=90, fontsize = 12)\n",
    "chart1.set_yticklabels(fontsize = 12)\n",
    "chart1.set_xlabels('', fontsize = 12)\n",
    "chart1.set_ylabels('Normalized Annual Salary', fontsize = 12)\n",
    "plt.title('How much do developers earn in the US?', fontsize = 15)\n",
    "chart2 = sns.catplot(x=\"DevType\",y = 'JobSat',kind=\"box\", data=US_df, aspect = 2)\n",
    "chart2.set_xticklabels(rotation=90, fontsize = 12)\n",
    "chart2.set_yticklabels(fontsize = 12)\n",
    "chart2.set_xlabels('', fontsize = 12)\n",
    "chart2.set_ylabels('Job Satisfcation', fontsize = 12)\n",
    "plt.title('Job satisfaction ratings among developers in the US?', fontsize = 15)\n",
    "plt.show()"
   ]
  },
  {
   "cell_type": "markdown",
   "metadata": {},
   "source": [
    "##### Plot shows top paid developers as machine Learning Specialists, data scientists, developers with maths and stats. background, devOp specialists, and embeded app./devices developers.\n",
    "##### Upper bound outliers could be developers with high years of expereince given that such developers as web developers, quality assusrance,and database administrators are traditional IT roles. Lower bound outliers could indicate freelancers.\n",
    "#### Above results also show that most developers feel pretty satisfied with their job, except for graphic designer. Compared with salaries, only graphic designers have a correlation of low pay and satisfaction"
   ]
  },
  {
   "cell_type": "code",
   "execution_count": null,
   "metadata": {},
   "outputs": [],
   "source": []
  },
  {
   "cell_type": "markdown",
   "metadata": {},
   "source": [
    "### Part 2:  Is expereince a factor to consider in interpreting the 'Salary' vs 'developer_type' plot above?"
   ]
  },
  {
   "cell_type": "code",
   "execution_count": null,
   "metadata": {},
   "outputs": [],
   "source": []
  },
  {
   "cell_type": "code",
   "execution_count": 383,
   "metadata": {},
   "outputs": [
    {
     "data": {
      "text/html": [
       "<div>\n",
       "<style scoped>\n",
       "    .dataframe tbody tr th:only-of-type {\n",
       "        vertical-align: middle;\n",
       "    }\n",
       "\n",
       "    .dataframe tbody tr th {\n",
       "        vertical-align: top;\n",
       "    }\n",
       "\n",
       "    .dataframe thead th {\n",
       "        text-align: right;\n",
       "    }\n",
       "</style>\n",
       "<table border=\"1\" class=\"dataframe\">\n",
       "  <thead>\n",
       "    <tr style=\"text-align: right;\">\n",
       "      <th></th>\n",
       "      <th>DeveloperType</th>\n",
       "      <th>Country</th>\n",
       "      <th>Salary</th>\n",
       "      <th>YearsCodedJob</th>\n",
       "    </tr>\n",
       "  </thead>\n",
       "  <tbody>\n",
       "    <tr>\n",
       "      <th>0</th>\n",
       "      <td>nan</td>\n",
       "      <td>United States</td>\n",
       "      <td>NaN</td>\n",
       "      <td>NaN</td>\n",
       "    </tr>\n",
       "    <tr>\n",
       "      <th>1</th>\n",
       "      <td>nan</td>\n",
       "      <td>United Kingdom</td>\n",
       "      <td>NaN</td>\n",
       "      <td>NaN</td>\n",
       "    </tr>\n",
       "    <tr>\n",
       "      <th>2</th>\n",
       "      <td>Other</td>\n",
       "      <td>United Kingdom</td>\n",
       "      <td>113750.0</td>\n",
       "      <td>20 or more years</td>\n",
       "    </tr>\n",
       "    <tr>\n",
       "      <th>3</th>\n",
       "      <td>nan</td>\n",
       "      <td>United States</td>\n",
       "      <td>NaN</td>\n",
       "      <td>9 to 10 years</td>\n",
       "    </tr>\n",
       "    <tr>\n",
       "      <th>4</th>\n",
       "      <td>Mobile developer</td>\n",
       "      <td>Switzerland</td>\n",
       "      <td>NaN</td>\n",
       "      <td>10 to 11 years</td>\n",
       "    </tr>\n",
       "    <tr>\n",
       "      <th>5</th>\n",
       "      <td>Graphics programming</td>\n",
       "      <td>Switzerland</td>\n",
       "      <td>NaN</td>\n",
       "      <td>10 to 11 years</td>\n",
       "    </tr>\n",
       "  </tbody>\n",
       "</table>\n",
       "</div>"
      ],
      "text/plain": [
       "          DeveloperType         Country    Salary     YearsCodedJob\n",
       "0                   nan   United States       NaN               NaN\n",
       "1                   nan  United Kingdom       NaN               NaN\n",
       "2                 Other  United Kingdom  113750.0  20 or more years\n",
       "3                   nan   United States       NaN     9 to 10 years\n",
       "4      Mobile developer     Switzerland       NaN    10 to 11 years\n",
       "5  Graphics programming     Switzerland       NaN    10 to 11 years"
      ]
     },
     "execution_count": 383,
     "metadata": {},
     "output_type": "execute_result"
    }
   ],
   "source": [
    "new_df1 = pd.concat([drop_down(df,'DeveloperType','Country',';'),drop_down(df,'DeveloperType','Salary',';'), drop_down(df,'DeveloperType','YearsCodedJob',';')], axis = 1)\n",
    "#new_df1 = new_df.drop(index = [1])\n",
    "new_df1 = new_df1.loc[:,~new_df1.columns.duplicated()]\n",
    "new_df1.head(6)"
   ]
  },
  {
   "cell_type": "code",
   "execution_count": null,
   "metadata": {},
   "outputs": [],
   "source": []
  },
  {
   "cell_type": "markdown",
   "metadata": {},
   "source": [
    "##### First I tested for database administrators to see if the highest paid have long years of expereince coding."
   ]
  },
  {
   "cell_type": "code",
   "execution_count": 384,
   "metadata": {},
   "outputs": [
    {
     "data": {
      "text/html": [
       "<div>\n",
       "<style scoped>\n",
       "    .dataframe tbody tr th:only-of-type {\n",
       "        vertical-align: middle;\n",
       "    }\n",
       "\n",
       "    .dataframe tbody tr th {\n",
       "        vertical-align: top;\n",
       "    }\n",
       "\n",
       "    .dataframe thead th {\n",
       "        text-align: right;\n",
       "    }\n",
       "</style>\n",
       "<table border=\"1\" class=\"dataframe\">\n",
       "  <thead>\n",
       "    <tr style=\"text-align: right;\">\n",
       "      <th></th>\n",
       "      <th>DeveloperType</th>\n",
       "      <th>Country</th>\n",
       "      <th>Salary</th>\n",
       "      <th>YearsCodedJob</th>\n",
       "    </tr>\n",
       "  </thead>\n",
       "  <tbody>\n",
       "    <tr>\n",
       "      <th>21</th>\n",
       "      <td>Web developer</td>\n",
       "      <td>United States</td>\n",
       "      <td>130000.0</td>\n",
       "      <td>20 or more years</td>\n",
       "    </tr>\n",
       "    <tr>\n",
       "      <th>22</th>\n",
       "      <td>Embedded applications/devices developer</td>\n",
       "      <td>United States</td>\n",
       "      <td>130000.0</td>\n",
       "      <td>20 or more years</td>\n",
       "    </tr>\n",
       "    <tr>\n",
       "      <th>23</th>\n",
       "      <td>DevOps specialist</td>\n",
       "      <td>United States</td>\n",
       "      <td>130000.0</td>\n",
       "      <td>20 or more years</td>\n",
       "    </tr>\n",
       "    <tr>\n",
       "      <th>24</th>\n",
       "      <td>Quality assurance engineer</td>\n",
       "      <td>United States</td>\n",
       "      <td>130000.0</td>\n",
       "      <td>20 or more years</td>\n",
       "    </tr>\n",
       "    <tr>\n",
       "      <th>25</th>\n",
       "      <td>Other</td>\n",
       "      <td>United States</td>\n",
       "      <td>130000.0</td>\n",
       "      <td>20 or more years</td>\n",
       "    </tr>\n",
       "  </tbody>\n",
       "</table>\n",
       "</div>"
      ],
      "text/plain": [
       "                              DeveloperType        Country    Salary  \\\n",
       "21                            Web developer  United States  130000.0   \n",
       "22  Embedded applications/devices developer  United States  130000.0   \n",
       "23                        DevOps specialist  United States  130000.0   \n",
       "24               Quality assurance engineer  United States  130000.0   \n",
       "25                                    Other  United States  130000.0   \n",
       "\n",
       "       YearsCodedJob  \n",
       "21  20 or more years  \n",
       "22  20 or more years  \n",
       "23  20 or more years  \n",
       "24  20 or more years  \n",
       "25  20 or more years  "
      ]
     },
     "execution_count": 384,
     "metadata": {},
     "output_type": "execute_result"
    }
   ],
   "source": [
    "new_dfUS = new_df1[new_df1.Country == 'United States']\n",
    "#new_dfUS.isnull().sum()\n",
    "#new_dfUS.HaveWorkedLanguage.value_counts()\n",
    "new_dfUS = new_dfUS.dropna(subset = ['Salary'], how = 'any')\n",
    "new_dfUS.head()"
   ]
  },
  {
   "cell_type": "code",
   "execution_count": 388,
   "metadata": {},
   "outputs": [
    {
     "name": "stderr",
     "output_type": "stream",
     "text": [
      "C:\\Users\\chiji\\AppData\\Local\\Continuum\\anaconda3\\lib\\site-packages\\ipykernel_launcher.py:2: SettingWithCopyWarning: \n",
      "A value is trying to be set on a copy of a slice from a DataFrame\n",
      "\n",
      "See the caveats in the documentation: http://pandas.pydata.org/pandas-docs/stable/indexing.html#indexing-view-versus-copy\n",
      "  \n"
     ]
    },
    {
     "data": {
      "text/html": [
       "<div>\n",
       "<style scoped>\n",
       "    .dataframe tbody tr th:only-of-type {\n",
       "        vertical-align: middle;\n",
       "    }\n",
       "\n",
       "    .dataframe tbody tr th {\n",
       "        vertical-align: top;\n",
       "    }\n",
       "\n",
       "    .dataframe thead th {\n",
       "        text-align: right;\n",
       "    }\n",
       "</style>\n",
       "<table border=\"1\" class=\"dataframe\">\n",
       "  <thead>\n",
       "    <tr style=\"text-align: right;\">\n",
       "      <th></th>\n",
       "      <th>DeveloperType</th>\n",
       "      <th>Country</th>\n",
       "      <th>Salary</th>\n",
       "      <th>YearsCodedJob</th>\n",
       "    </tr>\n",
       "  </thead>\n",
       "  <tbody>\n",
       "    <tr>\n",
       "      <th>39374</th>\n",
       "      <td>Database administrator</td>\n",
       "      <td>United States</td>\n",
       "      <td>190000.0</td>\n",
       "      <td>16 to 17 years</td>\n",
       "    </tr>\n",
       "    <tr>\n",
       "      <th>87143</th>\n",
       "      <td>Database administrator</td>\n",
       "      <td>United States</td>\n",
       "      <td>187000.0</td>\n",
       "      <td>20 or more years</td>\n",
       "    </tr>\n",
       "    <tr>\n",
       "      <th>39242</th>\n",
       "      <td>Database administrator</td>\n",
       "      <td>United States</td>\n",
       "      <td>180000.0</td>\n",
       "      <td>20 or more years</td>\n",
       "    </tr>\n",
       "    <tr>\n",
       "      <th>17921</th>\n",
       "      <td>Database administrator</td>\n",
       "      <td>United States</td>\n",
       "      <td>180000.0</td>\n",
       "      <td>12 to 13 years</td>\n",
       "    </tr>\n",
       "    <tr>\n",
       "      <th>71550</th>\n",
       "      <td>Database administrator</td>\n",
       "      <td>United States</td>\n",
       "      <td>180000.0</td>\n",
       "      <td>20 or more years</td>\n",
       "    </tr>\n",
       "    <tr>\n",
       "      <th>11573</th>\n",
       "      <td>Database administrator</td>\n",
       "      <td>United States</td>\n",
       "      <td>180000.0</td>\n",
       "      <td>20 or more years</td>\n",
       "    </tr>\n",
       "    <tr>\n",
       "      <th>1394</th>\n",
       "      <td>Database administrator</td>\n",
       "      <td>United States</td>\n",
       "      <td>178000.0</td>\n",
       "      <td>16 to 17 years</td>\n",
       "    </tr>\n",
       "    <tr>\n",
       "      <th>34412</th>\n",
       "      <td>Database administrator</td>\n",
       "      <td>United States</td>\n",
       "      <td>175000.0</td>\n",
       "      <td>17 to 18 years</td>\n",
       "    </tr>\n",
       "    <tr>\n",
       "      <th>20603</th>\n",
       "      <td>Database administrator</td>\n",
       "      <td>United States</td>\n",
       "      <td>175000.0</td>\n",
       "      <td>17 to 18 years</td>\n",
       "    </tr>\n",
       "    <tr>\n",
       "      <th>86886</th>\n",
       "      <td>Database administrator</td>\n",
       "      <td>United States</td>\n",
       "      <td>173000.0</td>\n",
       "      <td>13 to 14 years</td>\n",
       "    </tr>\n",
       "  </tbody>\n",
       "</table>\n",
       "</div>"
      ],
      "text/plain": [
       "                DeveloperType        Country    Salary     YearsCodedJob\n",
       "39374  Database administrator  United States  190000.0    16 to 17 years\n",
       "87143  Database administrator  United States  187000.0  20 or more years\n",
       "39242  Database administrator  United States  180000.0  20 or more years\n",
       "17921  Database administrator  United States  180000.0    12 to 13 years\n",
       "71550  Database administrator  United States  180000.0  20 or more years\n",
       "11573  Database administrator  United States  180000.0  20 or more years\n",
       "1394   Database administrator  United States  178000.0    16 to 17 years\n",
       "34412  Database administrator  United States  175000.0    17 to 18 years\n",
       "20603  Database administrator  United States  175000.0    17 to 18 years\n",
       "86886  Database administrator  United States  173000.0    13 to 14 years"
      ]
     },
     "execution_count": 388,
     "metadata": {},
     "output_type": "execute_result"
    }
   ],
   "source": [
    "Test_df = new_dfUS[new_dfUS['DeveloperType'] == 'Database administrator']\n",
    "Test_df.sort_values(['Salary'], ascending = False, inplace = True)\n",
    "Test_df.head(10)"
   ]
  },
  {
   "cell_type": "markdown",
   "metadata": {},
   "source": [
    "##### True that the highest paid database administrators have been coding for longer."
   ]
  },
  {
   "cell_type": "markdown",
   "metadata": {},
   "source": [
    "##### Now to get a broader view, I plotted expereince vs salary to see if there is a trend."
   ]
  },
  {
   "cell_type": "code",
   "execution_count": 385,
   "metadata": {},
   "outputs": [
    {
     "data": {
      "text/html": [
       "<div>\n",
       "<style scoped>\n",
       "    .dataframe tbody tr th:only-of-type {\n",
       "        vertical-align: middle;\n",
       "    }\n",
       "\n",
       "    .dataframe tbody tr th {\n",
       "        vertical-align: top;\n",
       "    }\n",
       "\n",
       "    .dataframe thead th {\n",
       "        text-align: right;\n",
       "    }\n",
       "</style>\n",
       "<table border=\"1\" class=\"dataframe\">\n",
       "  <thead>\n",
       "    <tr style=\"text-align: right;\">\n",
       "      <th></th>\n",
       "      <th>YearsCodedJob</th>\n",
       "      <th>Salary</th>\n",
       "    </tr>\n",
       "  </thead>\n",
       "  <tbody>\n",
       "    <tr>\n",
       "      <th>49490</th>\n",
       "      <td>1 to 2 years</td>\n",
       "      <td>102000.0</td>\n",
       "    </tr>\n",
       "    <tr>\n",
       "      <th>64626</th>\n",
       "      <td>1 to 2 years</td>\n",
       "      <td>74000.0</td>\n",
       "    </tr>\n",
       "    <tr>\n",
       "      <th>64625</th>\n",
       "      <td>1 to 2 years</td>\n",
       "      <td>74000.0</td>\n",
       "    </tr>\n",
       "    <tr>\n",
       "      <th>87888</th>\n",
       "      <td>1 to 2 years</td>\n",
       "      <td>110000.0</td>\n",
       "    </tr>\n",
       "    <tr>\n",
       "      <th>87887</th>\n",
       "      <td>1 to 2 years</td>\n",
       "      <td>110000.0</td>\n",
       "    </tr>\n",
       "    <tr>\n",
       "      <th>87886</th>\n",
       "      <td>1 to 2 years</td>\n",
       "      <td>110000.0</td>\n",
       "    </tr>\n",
       "    <tr>\n",
       "      <th>31888</th>\n",
       "      <td>1 to 2 years</td>\n",
       "      <td>115000.0</td>\n",
       "    </tr>\n",
       "    <tr>\n",
       "      <th>31924</th>\n",
       "      <td>1 to 2 years</td>\n",
       "      <td>100000.0</td>\n",
       "    </tr>\n",
       "    <tr>\n",
       "      <th>52491</th>\n",
       "      <td>1 to 2 years</td>\n",
       "      <td>40000.0</td>\n",
       "    </tr>\n",
       "    <tr>\n",
       "      <th>52492</th>\n",
       "      <td>1 to 2 years</td>\n",
       "      <td>40000.0</td>\n",
       "    </tr>\n",
       "    <tr>\n",
       "      <th>52493</th>\n",
       "      <td>1 to 2 years</td>\n",
       "      <td>40000.0</td>\n",
       "    </tr>\n",
       "    <tr>\n",
       "      <th>31997</th>\n",
       "      <td>1 to 2 years</td>\n",
       "      <td>100000.0</td>\n",
       "    </tr>\n",
       "    <tr>\n",
       "      <th>52520</th>\n",
       "      <td>1 to 2 years</td>\n",
       "      <td>52500.0</td>\n",
       "    </tr>\n",
       "    <tr>\n",
       "      <th>64385</th>\n",
       "      <td>1 to 2 years</td>\n",
       "      <td>70000.0</td>\n",
       "    </tr>\n",
       "    <tr>\n",
       "      <th>32009</th>\n",
       "      <td>1 to 2 years</td>\n",
       "      <td>100000.0</td>\n",
       "    </tr>\n",
       "    <tr>\n",
       "      <th>80406</th>\n",
       "      <td>1 to 2 years</td>\n",
       "      <td>40000.0</td>\n",
       "    </tr>\n",
       "    <tr>\n",
       "      <th>12012</th>\n",
       "      <td>1 to 2 years</td>\n",
       "      <td>64000.0</td>\n",
       "    </tr>\n",
       "    <tr>\n",
       "      <th>12011</th>\n",
       "      <td>1 to 2 years</td>\n",
       "      <td>64000.0</td>\n",
       "    </tr>\n",
       "    <tr>\n",
       "      <th>3428</th>\n",
       "      <td>1 to 2 years</td>\n",
       "      <td>129000.0</td>\n",
       "    </tr>\n",
       "    <tr>\n",
       "      <th>79989</th>\n",
       "      <td>1 to 2 years</td>\n",
       "      <td>90000.0</td>\n",
       "    </tr>\n",
       "  </tbody>\n",
       "</table>\n",
       "</div>"
      ],
      "text/plain": [
       "      YearsCodedJob    Salary\n",
       "49490  1 to 2 years  102000.0\n",
       "64626  1 to 2 years   74000.0\n",
       "64625  1 to 2 years   74000.0\n",
       "87888  1 to 2 years  110000.0\n",
       "87887  1 to 2 years  110000.0\n",
       "87886  1 to 2 years  110000.0\n",
       "31888  1 to 2 years  115000.0\n",
       "31924  1 to 2 years  100000.0\n",
       "52491  1 to 2 years   40000.0\n",
       "52492  1 to 2 years   40000.0\n",
       "52493  1 to 2 years   40000.0\n",
       "31997  1 to 2 years  100000.0\n",
       "52520  1 to 2 years   52500.0\n",
       "64385  1 to 2 years   70000.0\n",
       "32009  1 to 2 years  100000.0\n",
       "80406  1 to 2 years   40000.0\n",
       "12012  1 to 2 years   64000.0\n",
       "12011  1 to 2 years   64000.0\n",
       "3428   1 to 2 years  129000.0\n",
       "79989  1 to 2 years   90000.0"
      ]
     },
     "execution_count": 385,
     "metadata": {},
     "output_type": "execute_result"
    }
   ],
   "source": [
    "#US_df1 = new_dfUS.loc[:, ['DevType','JobSat']]\n",
    "US_df2 = new_dfUS.loc[:, ['YearsCodedJob','Salary']]\n",
    "#US_df1.set_index('DevType',inplace = True)\n",
    "#US_df2.set_index('YearsCodedJob',inplace = True)\n",
    "US_df2.sort_values(['YearsCodedJob'], ascending = True, axis = 0, inplace = True)\n",
    "US_df2.head(20)"
   ]
  },
  {
   "cell_type": "code",
   "execution_count": 410,
   "metadata": {},
   "outputs": [
    {
     "data": {
      "text/plain": [
       "<Figure size 1512x864 with 0 Axes>"
      ]
     },
     "metadata": {},
     "output_type": "display_data"
    },
    {
     "data": {
      "image/png": "[encoded data removed]",
      "text/plain": [
       "<Figure size 720x360 with 1 Axes>"
      ]
     },
     "metadata": {
      "needs_background": "light"
     },
     "output_type": "display_data"
    }
   ],
   "source": [
    "plt.figure(figsize=(21, 12))\n",
    "chart = sns.catplot(x=\"YearsCodedJob\", y=\"Salary\", data=US_df2, aspect = 2)\n",
    "chart.set_xticklabels(rotation=45, fontsize = 12)\n",
    "chart.set_yticklabels(fontsize = 12)\n",
    "chart.set_xlabels('', fontsize = 12)\n",
    "chart.set_ylabels('Salary', fontsize = 12)\n",
    "plt.title('Salary vs Years of Experience', fontsize = 15)\n",
    "plt.show()"
   ]
  },
  {
   "cell_type": "markdown",
   "metadata": {},
   "source": [
    "##### It does look like the more experienced a developer is, the higher the pay. Thus my guess about upper bound outliers could be just true"
   ]
  },
  {
   "cell_type": "code",
   "execution_count": null,
   "metadata": {},
   "outputs": [],
   "source": []
  },
  {
   "cell_type": "markdown",
   "metadata": {},
   "source": [
    "### Part 3: Are there certain tools that top paid developers use?"
   ]
  },
  {
   "cell_type": "markdown",
   "metadata": {},
   "source": [
    "#### First, I mapped out the tools used by most developers together with their corresponding salaries"
   ]
  },
  {
   "cell_type": "code",
   "execution_count": 288,
   "metadata": {},
   "outputs": [
    {
     "data": {
      "text/html": [
       "<div>\n",
       "<style scoped>\n",
       "    .dataframe tbody tr th:only-of-type {\n",
       "        vertical-align: middle;\n",
       "    }\n",
       "\n",
       "    .dataframe tbody tr th {\n",
       "        vertical-align: top;\n",
       "    }\n",
       "\n",
       "    .dataframe thead th {\n",
       "        text-align: right;\n",
       "    }\n",
       "</style>\n",
       "<table border=\"1\" class=\"dataframe\">\n",
       "  <thead>\n",
       "    <tr style=\"text-align: right;\">\n",
       "      <th></th>\n",
       "      <th>HaveWorkedLanguage</th>\n",
       "      <th>Country</th>\n",
       "      <th>Salary</th>\n",
       "    </tr>\n",
       "  </thead>\n",
       "  <tbody>\n",
       "    <tr>\n",
       "      <th>0</th>\n",
       "      <td>Swift</td>\n",
       "      <td>United States</td>\n",
       "      <td>NaN</td>\n",
       "    </tr>\n",
       "    <tr>\n",
       "      <th>2</th>\n",
       "      <td>Python</td>\n",
       "      <td>United Kingdom</td>\n",
       "      <td>NaN</td>\n",
       "    </tr>\n",
       "    <tr>\n",
       "      <th>3</th>\n",
       "      <td>Ruby</td>\n",
       "      <td>United Kingdom</td>\n",
       "      <td>NaN</td>\n",
       "    </tr>\n",
       "    <tr>\n",
       "      <th>4</th>\n",
       "      <td>SQL</td>\n",
       "      <td>United Kingdom</td>\n",
       "      <td>NaN</td>\n",
       "    </tr>\n",
       "    <tr>\n",
       "      <th>5</th>\n",
       "      <td>Java</td>\n",
       "      <td>United Kingdom</td>\n",
       "      <td>113750.0</td>\n",
       "    </tr>\n",
       "    <tr>\n",
       "      <th>6</th>\n",
       "      <td>PHP</td>\n",
       "      <td>United Kingdom</td>\n",
       "      <td>113750.0</td>\n",
       "    </tr>\n",
       "  </tbody>\n",
       "</table>\n",
       "</div>"
      ],
      "text/plain": [
       "  HaveWorkedLanguage         Country    Salary\n",
       "0              Swift   United States       NaN\n",
       "2             Python  United Kingdom       NaN\n",
       "3               Ruby  United Kingdom       NaN\n",
       "4                SQL  United Kingdom       NaN\n",
       "5               Java  United Kingdom  113750.0\n",
       "6                PHP  United Kingdom  113750.0"
      ]
     },
     "execution_count": 288,
     "metadata": {},
     "output_type": "execute_result"
    }
   ],
   "source": [
    "#gu = drop_down(df,'HaveWorkedLanguage','Country',';')\n",
    "new_df = pd.concat([drop_down(df,'HaveWorkedLanguage','Country',';'),drop_down(df,'HaveWorkedLanguage','Salary',';')], axis = 1)\n",
    "new_df = new_df.drop(index = [1])\n",
    "new_df = new_df.loc[:,~new_df.columns.duplicated()]\n",
    "new_df.head(6)"
   ]
  },
  {
   "cell_type": "code",
   "execution_count": 289,
   "metadata": {},
   "outputs": [
    {
     "data": {
      "text/html": [
       "<div>\n",
       "<style scoped>\n",
       "    .dataframe tbody tr th:only-of-type {\n",
       "        vertical-align: middle;\n",
       "    }\n",
       "\n",
       "    .dataframe tbody tr th {\n",
       "        vertical-align: top;\n",
       "    }\n",
       "\n",
       "    .dataframe thead th {\n",
       "        text-align: right;\n",
       "    }\n",
       "</style>\n",
       "<table border=\"1\" class=\"dataframe\">\n",
       "  <thead>\n",
       "    <tr style=\"text-align: right;\">\n",
       "      <th></th>\n",
       "      <th>HaveWorkedLanguage</th>\n",
       "      <th>Country</th>\n",
       "      <th>Salary</th>\n",
       "    </tr>\n",
       "  </thead>\n",
       "  <tbody>\n",
       "    <tr>\n",
       "      <th>46</th>\n",
       "      <td>C</td>\n",
       "      <td>United States</td>\n",
       "      <td>130000.0</td>\n",
       "    </tr>\n",
       "    <tr>\n",
       "      <th>47</th>\n",
       "      <td>Clojure</td>\n",
       "      <td>United States</td>\n",
       "      <td>130000.0</td>\n",
       "    </tr>\n",
       "    <tr>\n",
       "      <th>48</th>\n",
       "      <td>JavaScript</td>\n",
       "      <td>United States</td>\n",
       "      <td>130000.0</td>\n",
       "    </tr>\n",
       "    <tr>\n",
       "      <th>49</th>\n",
       "      <td>Matlab</td>\n",
       "      <td>United States</td>\n",
       "      <td>130000.0</td>\n",
       "    </tr>\n",
       "    <tr>\n",
       "      <th>50</th>\n",
       "      <td>Rust</td>\n",
       "      <td>United States</td>\n",
       "      <td>130000.0</td>\n",
       "    </tr>\n",
       "  </tbody>\n",
       "</table>\n",
       "</div>"
      ],
      "text/plain": [
       "   HaveWorkedLanguage        Country    Salary\n",
       "46                  C  United States  130000.0\n",
       "47            Clojure  United States  130000.0\n",
       "48         JavaScript  United States  130000.0\n",
       "49             Matlab  United States  130000.0\n",
       "50               Rust  United States  130000.0"
      ]
     },
     "execution_count": 289,
     "metadata": {},
     "output_type": "execute_result"
    }
   ],
   "source": [
    "new_dfUS = new_df[new_df.Country == 'United States']\n",
    "#new_dfUS.isnull().sum()\n",
    "#new_dfUS.HaveWorkedLanguage.value_counts()\n",
    "new_dfUS = new_dfUS.dropna(subset = ['Salary'], how = 'any')\n",
    "new_dfUS.head()"
   ]
  },
  {
   "cell_type": "code",
   "execution_count": 389,
   "metadata": {},
   "outputs": [
    {
     "data": {
      "text/plain": [
       "(7781, 4)"
      ]
     },
     "execution_count": 389,
     "metadata": {},
     "output_type": "execute_result"
    }
   ],
   "source": [
    "new_dfUS.shape"
   ]
  },
  {
   "cell_type": "code",
   "execution_count": 290,
   "metadata": {},
   "outputs": [
    {
     "data": {
      "text/plain": [
       "JavaScript        2477\n",
       "SQL               1983\n",
       "C#                1434\n",
       "Java              1234\n",
       "Python            1183\n",
       "PHP                716\n",
       "C++                612\n",
       "Ruby               503\n",
       "C                  489\n",
       "TypeScript         392\n",
       "Objective-C        273\n",
       "Swift              267\n",
       "VB.NET             248\n",
       "Go                 214\n",
       "Perl               187\n",
       "nan                178\n",
       "Scala              159\n",
       "Groovy             158\n",
       "R                  151\n",
       "CoffeeScript       144\n",
       "Assembly           128\n",
       "VBA                111\n",
       "Matlab              98\n",
       "Lua                 76\n",
       "Visual Basic 6      73\n",
       "Clojure             51\n",
       "Elixir              51\n",
       "Rust                49\n",
       "Haskell             45\n",
       "F#                  40\n",
       "Erlang              31\n",
       "Smalltalk           27\n",
       "Common Lisp         18\n",
       "Dart                15\n",
       "Hack                10\n",
       "Julia                9\n",
       "Name: HaveWorkedLanguage, dtype: int64"
      ]
     },
     "execution_count": 290,
     "metadata": {},
     "output_type": "execute_result"
    }
   ],
   "source": [
    "new_dfUS.HaveWorkedLanguage.value_counts()"
   ]
  },
  {
   "cell_type": "code",
   "execution_count": 265,
   "metadata": {},
   "outputs": [
    {
     "data": {
      "text/plain": [
       "(13834, 3)"
      ]
     },
     "execution_count": 265,
     "metadata": {},
     "output_type": "execute_result"
    }
   ],
   "source": [
    "new_dfUS.shape"
   ]
  },
  {
   "cell_type": "code",
   "execution_count": 272,
   "metadata": {},
   "outputs": [
    {
     "name": "stderr",
     "output_type": "stream",
     "text": [
      "C:\\Users\\chiji\\AppData\\Local\\Continuum\\anaconda3\\lib\\site-packages\\pandas\\core\\frame.py:3697: SettingWithCopyWarning: \n",
      "A value is trying to be set on a copy of a slice from a DataFrame\n",
      "\n",
      "See the caveats in the documentation: http://pandas.pydata.org/pandas-docs/stable/indexing.html#indexing-view-versus-copy\n",
      "  errors=errors)\n"
     ]
    },
    {
     "data": {
      "text/plain": [
       "(10142, 2)"
      ]
     },
     "execution_count": 272,
     "metadata": {},
     "output_type": "execute_result"
    }
   ],
   "source": [
    "## To select only the top 8 tools that are used by developers in the US\n",
    "toptools = ['JavaScript', 'SQL','C#', 'Java','Python','PHP','C++','Ruby']\n",
    "Top_tools_df = new_dfUS[new_dfUS['HaveWorkedLanguage'].isin(toptools)]\n",
    "#Top_tools_df.HaveWorkedLanguage.value_counts()\n",
    "Top_tools_df.drop('Country', axis = 1, inplace = True)\n",
    "Top_tools_df.shape"
   ]
  },
  {
   "cell_type": "markdown",
   "metadata": {},
   "source": [
    "#### Count plot of the top tools"
   ]
  },
  {
   "cell_type": "code",
   "execution_count": 407,
   "metadata": {},
   "outputs": [
    {
     "data": {
      "text/plain": [
       "<Figure size 1512x864 with 0 Axes>"
      ]
     },
     "metadata": {},
     "output_type": "display_data"
    },
    {
     "data": {
      "image/png": "[encoded data removed]",
      "text/plain": [
       "<Figure size 720x360 with 1 Axes>"
      ]
     },
     "metadata": {
      "needs_background": "light"
     },
     "output_type": "display_data"
    }
   ],
   "source": [
    "plt.figure(figsize=(21, 12))\n",
    "chart = sns.catplot(x=\"HaveWorkedLanguage\", kind=\"count\", data=Top_tools_df, aspect = 2)\n",
    "chart.set_xticklabels(rotation=45, fontsize = 12)\n",
    "chart.set_yticklabels(fontsize = 12)\n",
    "chart.set_xlabels('', fontsize = 12)\n",
    "chart.set_ylabels('Count', fontsize = 12)\n",
    "chart.set_titles('Top tools used by developers', fontsize = 14)\n",
    "plt.title('Top tools used by developers in the US',fontsize = 15)\n",
    "plt.show()"
   ]
  },
  {
   "cell_type": "code",
   "execution_count": null,
   "metadata": {},
   "outputs": [],
   "source": [
    "# Javascript is obviuosly the most among respondents of the survey. This could be connected to the \n",
    "# fact that most repondents are web developers. This is followed by SQL and C#"
   ]
  },
  {
   "cell_type": "markdown",
   "metadata": {},
   "source": [
    "#### Salary vs Tools plot"
   ]
  },
  {
   "cell_type": "code",
   "execution_count": 409,
   "metadata": {},
   "outputs": [
    {
     "data": {
      "text/plain": [
       "<Figure size 1512x864 with 0 Axes>"
      ]
     },
     "metadata": {},
     "output_type": "display_data"
    },
    {
     "data": {
      "image/png": "[encoded data removed]",
      "text/plain": [
       "<Figure size 720x360 with 1 Axes>"
      ]
     },
     "metadata": {
      "needs_background": "light"
     },
     "output_type": "display_data"
    }
   ],
   "source": [
    "plt.figure(figsize=(21, 12))\n",
    "chart = sns.catplot(x=\"HaveWorkedLanguage\", y=\"Salary\", kind=\"box\", data=Top_tools_df, aspect = 2)\n",
    "chart.set_xticklabels(rotation=45, fontsize = 12)\n",
    "chart.set_yticklabels(fontsize = 12)\n",
    "chart.set_xlabels('', fontsize = 12)\n",
    "chart.set_ylabels('Salary [USD]', fontsize = 12)\n",
    "plt.title('Potential earnings by tools',fontsize = 15)\n",
    "plt.show()"
   ]
  },
  {
   "cell_type": "code",
   "execution_count": null,
   "metadata": {},
   "outputs": [],
   "source": [
    "##### Topmost paid developers report C++ as the tool they make use of. This is followed by python, then Ruby, and Java."
   ]
  },
  {
   "cell_type": "code",
   "execution_count": null,
   "metadata": {},
   "outputs": [],
   "source": []
  },
  {
   "cell_type": "code",
   "execution_count": null,
   "metadata": {},
   "outputs": [],
   "source": []
  },
  {
   "cell_type": "code",
   "execution_count": null,
   "metadata": {},
   "outputs": [],
   "source": []
  },
  {
   "cell_type": "code",
   "execution_count": null,
   "metadata": {},
   "outputs": [],
   "source": []
  },
  {
   "cell_type": "code",
   "execution_count": 66,
   "metadata": {},
   "outputs": [
    {
     "data": {
      "text/plain": [
       "Web developer                                            26235\n",
       "nan                                                      15267\n",
       "Desktop applications developer                           10435\n",
       "Mobile developer                                          8326\n",
       "Database administrator                                    5192\n",
       "Developer with a statistics or mathematics background     4091\n",
       "Systems administrator                                     4086\n",
       "DevOps specialist                                         4015\n",
       "Embedded applications/devices developer                   3352\n",
       "Data scientist                                            3045\n",
       "Other                                                     2694\n",
       "Graphics programming                                      1731\n",
       "Graphic designer                                          1426\n",
       "Machine learning specialist                               1379\n",
       "Quality assurance engineer                                1252\n",
       "dtype: int64"
      ]
     },
     "execution_count": 66,
     "metadata": {},
     "output_type": "execute_result"
    }
   ],
   "source": [
    "hu = extract_each(df,'DeveloperType')\n",
    "hu.value_counts()"
   ]
  },
  {
   "cell_type": "code",
   "execution_count": 390,
   "metadata": {},
   "outputs": [],
   "source": [
    "hl = extract_each(df,'HaveWorkedLanguage')\n",
    "#hl.value_counts()"
   ]
  },
  {
   "cell_type": "code",
   "execution_count": null,
   "metadata": {},
   "outputs": [],
   "source": []
  }
 ],
 "metadata": {
  "kernelspec": {
   "display_name": "Python 3",
   "language": "python",
   "name": "python3"
  },
  "language_info": {
   "codemirror_mode": {
    "name": "ipython",
    "version": 3
   },
   "file_extension": ".py",
   "mimetype": "text/x-python",
   "name": "python",
   "nbconvert_exporter": "python",
   "pygments_lexer": "ipython3",
   "version": "3.7.1"
  }
 },
 "nbformat": 4,
 "nbformat_minor": 2
}
